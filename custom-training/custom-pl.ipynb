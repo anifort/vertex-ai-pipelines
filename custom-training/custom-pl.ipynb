{
 "cells": [
  {
   "cell_type": "code",
   "execution_count": 9,
   "id": "ae9bc808",
   "metadata": {},
   "outputs": [],
   "source": [
    "import kfp\n",
    "from datetime import datetime\n",
    "from kfp.v2 import compiler\n",
    "from kfp.v2.google.client import AIPlatformClient\n",
    "from google.cloud import aiplatform\n",
    "from google_cloud_pipeline_components import aiplatform as gcc_aip\n",
    "\n",
    "project_id = \"feature-store-mars21\"\n",
    "region = \"us-central1\"\n",
    "pipeline_root_path = \"gs://feature-store-mars21/pl-root/telco-churn-custom\""
   ]
  },
  {
   "cell_type": "code",
   "execution_count": 10,
   "id": "82a99210",
   "metadata": {},
   "outputs": [],
   "source": [
    "from kfp.v2.google.client import AIPlatformClient"
   ]
  },
  {
   "cell_type": "code",
   "execution_count": 11,
   "id": "ae37a07e",
   "metadata": {},
   "outputs": [],
   "source": [
    "TIMESTAMP = datetime.now().strftime(\"%Y%m%d%H%M%S\")"
   ]
  },
  {
   "cell_type": "code",
   "execution_count": 12,
   "id": "587a4f95",
   "metadata": {},
   "outputs": [],
   "source": [
    "BUCKET_NAME = pipeline_root_path"
   ]
  },
  {
   "cell_type": "code",
   "execution_count": 13,
   "id": "9c073b83",
   "metadata": {},
   "outputs": [],
   "source": [
    "gcs_csv_path = \"gs://feature-store-mars21/data/telco/Telco-Customer-Churn.csv\""
   ]
  },
  {
   "cell_type": "code",
   "execution_count": 14,
   "id": "de144c73",
   "metadata": {},
   "outputs": [
    {
     "data": {
      "text/html": [
       "See the Pipeline job <a href=\"https://console.cloud.google.com/vertex-ai/locations/us-central1/pipelines/runs/custom-training-v3-20210817101642?project=feature-store-mars21\" target=\"_blank\" >here</a>."
      ],
      "text/plain": [
       "<IPython.core.display.HTML object>"
      ]
     },
     "metadata": {},
     "output_type": "display_data"
    }
   ],
   "source": [
    "VERSION= \"v3\"\n",
    "\n",
    "@kfp.dsl.pipeline(name=\"custom-training-{}\".format(VERSION),\n",
    "    pipeline_root=pipeline_root_path)\n",
    "def pipeline(project_id: str):\n",
    "        \n",
    "    dataset_create_op = gcc_aip.TabularDatasetCreateOp(\n",
    "         project=project_id, display_name=\"churn-pred\", gcs_source=gcs_csv_path,\n",
    "    )\n",
    "    \n",
    "    training_op = gcc_aip.CustomPythonPackageTrainingJobRunOp(\n",
    "        project=project_id,\n",
    "        display_name=\"train_churn_prediction_{}\".format(VERSION),\n",
    "        python_package_gcs_uri=\"gs://feature-store-mars21/churn-model-dist/churn-0.1.tar.gz\",\n",
    "        python_module=\"trainer.task\",\n",
    "        model_description=\"Churn prediction model\",\n",
    "        container_uri='eu.gcr.io/cloud-aiplatform/training/scikit-learn-cpu.0-23:latest', \n",
    "        model_serving_container_image_uri='eu.gcr.io/cloud-aiplatform/prediction/sklearn-cpu.0-23:latest',\n",
    "        dataset=dataset_create_op.outputs[\"dataset\"],\n",
    "        model_display_name=\"myChurnModel{}\".format(VERSION),\n",
    "        base_output_dir=\"{}/assets-{}\".format(BUCKET_NAME, VERSION),\n",
    "        staging_bucket=\"{}/staging\".format(BUCKET_NAME),\n",
    "        machine_type= 'n1-standard-4',\n",
    "        training_fraction_split = 0.8,\n",
    "        validation_fraction_split = 0.1,\n",
    "        test_fraction_split = 0.1\n",
    "    )\n",
    "\n",
    "    deploy_op = gcc_aip.ModelDeployOp(  \n",
    "        model=training_op.outputs[\"model\"],\n",
    "        project=project_id,\n",
    "        machine_type=\"n1-standard-4\"\n",
    "    )\n",
    "    \n",
    "compiler.Compiler().compile(pipeline_func=pipeline,\n",
    "        package_path='churn_classif_pipeline.json')\n",
    "\n",
    "api_client = AIPlatformClient(project_id=project_id, region=region)\n",
    "\n",
    "response = api_clientl.create_run_from_job_spec(\n",
    "    'churn_classif_pipeline.json',\n",
    "    pipeline_root=pipeline_root_path,\n",
    "    parameter_values={\n",
    "        'project_id': project_id\n",
    "    })"
   ]
  },
  {
   "cell_type": "code",
   "execution_count": null,
   "id": "5aec9514",
   "metadata": {},
   "outputs": [],
   "source": []
  }
 ],
 "metadata": {
  "environment": {
   "name": "common-cpu.m69",
   "type": "gcloud",
   "uri": "gcr.io/deeplearning-platform-release/base-cpu:m69"
  },
  "kernelspec": {
   "display_name": "Python 3",
   "language": "python",
   "name": "python3"
  },
  "language_info": {
   "codemirror_mode": {
    "name": "ipython",
    "version": 3
   },
   "file_extension": ".py",
   "mimetype": "text/x-python",
   "name": "python",
   "nbconvert_exporter": "python",
   "pygments_lexer": "ipython3",
   "version": "3.7.10"
  }
 },
 "nbformat": 4,
 "nbformat_minor": 5
}
