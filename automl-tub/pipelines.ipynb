{
 "cells": [
  {
   "cell_type": "code",
   "execution_count": 1,
   "id": "4193bf43",
   "metadata": {},
   "outputs": [],
   "source": [
    "import kfp\n",
    "from datetime import datetime\n",
    "from kfp.v2 import compiler\n",
    "from kfp.v2.google.client import AIPlatformClient\n",
    "from google.cloud import aiplatform\n",
    "from google_cloud_pipeline_components import aiplatform as gcc_aip\n",
    "\n",
    "project_id = \"feature-store-mars21\"\n",
    "region = \"us-central1\"\n",
    "pipeline_root_path = \"gs://feature-store-mars21/pl-root/telco-churn-auto\""
   ]
  },
  {
   "cell_type": "code",
   "execution_count": 2,
   "id": "cdc607c6",
   "metadata": {},
   "outputs": [],
   "source": [
    "TIMESTAMP = datetime.now().strftime(\"%Y%m%d%H%M%S\")"
   ]
  },
  {
   "cell_type": "code",
   "execution_count": 3,
   "id": "4ed542d7",
   "metadata": {},
   "outputs": [],
   "source": [
    "BUCKET_NAME = pipeline_root_path"
   ]
  },
  {
   "cell_type": "code",
   "execution_count": 4,
   "id": "354ec72c",
   "metadata": {},
   "outputs": [],
   "source": [
    "gcs_csv_path = \"gs://feature-store-mars21/data/telco/Telco-Customer-Churn.csv\""
   ]
  },
  {
   "cell_type": "code",
   "execution_count": 5,
   "id": "8eda0c1f",
   "metadata": {},
   "outputs": [
    {
     "name": "stderr",
     "output_type": "stream",
     "text": [
      "/opt/conda/lib/python3.7/site-packages/kfp/v2/google/client/client.py:173: FutureWarning: AIPlatformClient will be deprecated in v1.9. Please use PipelineJob https://googleapis.dev/python/aiplatform/latest/_modules/google/cloud/aiplatform/pipeline_jobs.html in Vertex SDK. Install the SDK using \"pip install google-cloud-aiplatform\"\n",
      "  category=FutureWarning,\n"
     ]
    },
    {
     "data": {
      "text/html": [
       "See the Pipeline job <a href=\"https://console.cloud.google.com/vertex-ai/locations/us-central1/pipelines/runs/automl-tab-training-v2-20210929083121?project=feature-store-mars21\" target=\"_blank\" >here</a>."
      ],
      "text/plain": [
       "<IPython.core.display.HTML object>"
      ]
     },
     "metadata": {},
     "output_type": "display_data"
    }
   ],
   "source": [
    "@kfp.dsl.pipeline(name=\"automl-tab-training-v2\",\n",
    "    pipeline_root=pipeline_root_path)\n",
    "def pipeline(project_id: str):\n",
    "        \n",
    "    dataset_create_op = gcc_aip.TabularDatasetCreateOp(\n",
    "         project=project_id, display_name=\"churn-pred\", gcs_source=gcs_csv_path,\n",
    "    )\n",
    "    \n",
    "    training_op = gcc_aip.AutoMLTabularTrainingJobRunOp(\n",
    "        project=project_id,\n",
    "        display_name=\"train_churn_prediction_1\",\n",
    "        optimization_prediction_type=\"classification\",\n",
    "        optimization_objective=\"minimize-log-loss\",\n",
    "        dataset=dataset_create_op.outputs[\"dataset\"],\n",
    "        target_column=\"Churn\",\n",
    "        budget_milli_node_hours=1000,\n",
    "    )\n",
    "\n",
    "    deploy_op = gcc_aip.ModelDeployOp(  \n",
    "        model=training_op.outputs[\"model\"],\n",
    "        project=project_id,\n",
    "        machine_type=\"n1-standard-8\"\n",
    "    )\n",
    "    \n",
    "compiler.Compiler().compile(pipeline_func=pipeline,\n",
    "        package_path='churn_classif_pipeline.json')\n",
    "\n",
    "api_client = AIPlatformClient(project_id=project_id, region=region)\n",
    "\n",
    "response = api_client.create_run_from_job_spec(\n",
    "    'churn_classif_pipeline.json',\n",
    "    pipeline_root=pipeline_root_path,\n",
    "    parameter_values={\n",
    "        'project_id': project_id\n",
    "    })"
   ]
  },
  {
   "cell_type": "code",
   "execution_count": null,
   "id": "e8988e94",
   "metadata": {},
   "outputs": [],
   "source": []
  }
 ],
 "metadata": {
  "environment": {
   "name": "common-cpu.m79",
   "type": "gcloud",
   "uri": "gcr.io/deeplearning-platform-release/base-cpu:m79"
  },
  "kernelspec": {
   "display_name": "Python 3",
   "language": "python",
   "name": "python3"
  },
  "language_info": {
   "codemirror_mode": {
    "name": "ipython",
    "version": 3
   },
   "file_extension": ".py",
   "mimetype": "text/x-python",
   "name": "python",
   "nbconvert_exporter": "python",
   "pygments_lexer": "ipython3",
   "version": "3.7.10"
  }
 },
 "nbformat": 4,
 "nbformat_minor": 5
}
